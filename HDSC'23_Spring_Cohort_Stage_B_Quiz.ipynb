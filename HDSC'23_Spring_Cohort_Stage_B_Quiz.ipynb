{
  "nbformat": 4,
  "nbformat_minor": 0,
  "metadata": {
    "colab": {
      "provenance": [],
      "mount_file_id": "1TUeH0dfcSl0czfwZ6lGgSXFMCcw-AnKi",
      "authorship_tag": "ABX9TyMRt4vLwQinginPvGweuFdU",
      "include_colab_link": true
    },
    "kernelspec": {
      "name": "python3",
      "display_name": "Python 3"
    },
    "language_info": {
      "name": "python"
    }
  },
  "cells": [
    {
      "cell_type": "markdown",
      "metadata": {
        "id": "view-in-github",
        "colab_type": "text"
      },
      "source": [
        "<a href=\"https://colab.research.google.com/github/Dullard-boy/Hamoye-Data-Science-Internship-2023/blob/main/HDSC'23_Spring_Cohort_Stage_B_Quiz.ipynb\" target=\"_parent\"><img src=\"https://colab.research.google.com/assets/colab-badge.svg\" alt=\"Open In Colab\"/></a>"
      ]
    },
    {
      "cell_type": "code",
      "execution_count": 58,
      "metadata": {
        "id": "6YpEsttZXT3w"
      },
      "outputs": [],
      "source": [
        "import pandas as pd\n",
        "data=pd.read_csv('/content/drive/MyDrive/energydata_complete.csv')"
      ]
    },
    {
      "cell_type": "code",
      "source": [
        "data.columns"
      ],
      "metadata": {
        "colab": {
          "base_uri": "https://localhost:8080/"
        },
        "id": "QiuialqCXqQG",
        "outputId": "cc0593f7-27a7-4b5b-a03a-8e447cd94fe8"
      },
      "execution_count": 59,
      "outputs": [
        {
          "output_type": "execute_result",
          "data": {
            "text/plain": [
              "Index(['date', 'Appliances', 'lights', 'T1', 'RH_1', 'T2', 'RH_2', 'T3',\n",
              "       'RH_3', 'T4', 'RH_4', 'T5', 'RH_5', 'T6', 'RH_6', 'T7', 'RH_7', 'T8',\n",
              "       'RH_8', 'T9', 'RH_9', 'T_out', 'Press_mm_hg', 'RH_out', 'Windspeed',\n",
              "       'Visibility', 'Tdewpoint', 'rv1', 'rv2'],\n",
              "      dtype='object')"
            ]
          },
          "metadata": {},
          "execution_count": 59
        }
      ]
    },
    {
      "cell_type": "code",
      "source": [
        "import numpy as np\n",
        "from scipy.stats import linregress\n",
        "\n",
        "# Perform linear regression\n",
        "slope, intercept, r_value, p_value, std_err = linregress(data['T2'], data['T6'])\n",
        "\n",
        "# Calculate R-squared value\n",
        "r_squared = r_value**2\n",
        "\n",
        "# Print R-squared value rounded to two decimal places\n",
        "print(f\"R-squared value: {r_squared:.2f}\")\n"
      ],
      "metadata": {
        "colab": {
          "base_uri": "https://localhost:8080/"
        },
        "id": "FMBWCQwGXsWK",
        "outputId": "1e185c7f-08be-4f1c-cc19-0f8e24a3e443"
      },
      "execution_count": 60,
      "outputs": [
        {
          "output_type": "stream",
          "name": "stdout",
          "text": [
            "R-squared value: 0.64\n"
          ]
        }
      ]
    },
    {
      "cell_type": "code",
      "source": [
        "import pandas as pd\n",
        "import numpy as np\n",
        "from sklearn.model_selection import train_test_split\n",
        "from sklearn.linear_model import LinearRegression\n",
        "from sklearn.preprocessing import MinMaxScaler\n",
        "from sklearn.metrics import mean_absolute_error, mean_squared_error, r2_score\n"
      ],
      "metadata": {
        "id": "3LgThX1Abs_k"
      },
      "execution_count": 61,
      "outputs": []
    },
    {
      "cell_type": "code",
      "source": [
        "# Remove the specified columns\n",
        "columns_to_remove = [\"date\", \"lights\"]\n",
        "data = data.drop(columns=columns_to_remove)\n",
        "\n",
        "# Normalize the features using MinMaxScaler\n",
        "scaler = MinMaxScaler()\n",
        "data=pd.DataFrame(scaler.fit_transform(data), columns=data.columns)\n",
        "\n",
        "# Define the target variable\n",
        "target_variable = \"Appliances\"\n",
        "feature_variable = ['T1', 'RH_1', 'T2', 'RH_2', 'T3','RH_3', 'T4', 'RH_4', 'T5', 'RH_5', 'T6', 'RH_6', 'T7', 'RH_7', 'T8','RH_8', 'T9', 'RH_9', 'T_out', 'Press_mm_hg', 'RH_out', 'Windspeed','Visibility', 'Tdewpoint', 'rv1', 'rv2']\n",
        "X = data[feature_variable]\n",
        "y = data[target_variable]\n"
      ],
      "metadata": {
        "id": "TBpwbSIudlUE"
      },
      "execution_count": 62,
      "outputs": []
    },
    {
      "cell_type": "code",
      "source": [
        "# Split the data into train and test sets\n",
        "X_train, X_test, y_train, y_test = train_test_split(X, y, test_size=0.3, random_state=42)\n",
        "\n",
        "#Train the multiple linear regression model\n",
        "model = LinearRegression()\n",
        "model.fit(X_train, y_train)\n",
        "\n",
        "#Evaluate the model on the test set\n",
        "y_pred = model.predict(X_test)\n",
        "\n",
        "#calculate the metrics\n",
        "mae = mean_absolute_error(y_test, y_pred)\n",
        "rss = np.sum(np.square(y_test - y_pred))\n",
        "rmse = np.sqrt(np.mean(np.square(y_test - y_pred)))\n",
        "#rss = mean_squared_error(y_test, y_pred) * len(y_test)\n",
        "#rmse = mean_squared_error(y_test, y_pred, squared=False)\n",
        "r2 = r2_score(y_test, y_pred)\n"
      ],
      "metadata": {
        "id": "GoitH2EPcC2-"
      },
      "execution_count": 63,
      "outputs": []
    },
    {
      "cell_type": "code",
      "source": [
        "#Print the calculated metrics\n",
        "print(f\"Mean Absolute Error: {mae:.2f}\")\n",
        "print(f\"Residual Sum of Squares: {rss:.2f}\")\n",
        "print(f\"Root Mean Squared Error: {rmse:.3f}\")\n",
        "print(f\"Coefficient of Determination: {r2:.2f}\")\n"
      ],
      "metadata": {
        "colab": {
          "base_uri": "https://localhost:8080/"
        },
        "id": "JX4mGFjvck4Z",
        "outputId": "cc48899b-bb47-41c6-8b29-58da276a1b2a"
      },
      "execution_count": 64,
      "outputs": [
        {
          "output_type": "stream",
          "name": "stdout",
          "text": [
            "Mean Absolute Error: 0.05\n",
            "Residual Sum of Squares: 45.35\n",
            "Root Mean Squared Error: 0.088\n",
            "Coefficient of Determination: 0.15\n"
          ]
        }
      ]
    },
    {
      "cell_type": "code",
      "source": [
        "#Obtain the feature weights\n",
        "feature_weights = pd.DataFrame({'Feature': X.columns, 'Weight': model.coef_})\n",
        "lowest_weight = feature_weights.loc[feature_weights['Weight'].idxmin()]\n",
        "highest_weight = feature_weights.loc[feature_weights['Weight'].idxmax()]\n",
        "\n",
        "print(f\"Feature with the lowest weight: {lowest_weight['Feature']} ({lowest_weight['Weight']})\")\n",
        "print(f\"Feature with the highest weight: {highest_weight['Feature']} ({highest_weight['Weight']})\")\n"
      ],
      "metadata": {
        "colab": {
          "base_uri": "https://localhost:8080/"
        },
        "id": "dqkT70Abeqty",
        "outputId": "71ff8624-4ce0-4d07-f504-d9a1bd50d0e0"
      },
      "execution_count": 65,
      "outputs": [
        {
          "output_type": "stream",
          "name": "stdout",
          "text": [
            "Feature with the lowest weight: RH_2 (-0.45669794833849897)\n",
            "Feature with the highest weight: RH_1 (0.5535465998386385)\n"
          ]
        }
      ]
    },
    {
      "cell_type": "code",
      "source": [
        "#Import Libary\n",
        "from sklearn.linear_model import Ridge\n",
        "\n",
        "#Train the ridge regression model with an alpha value of 0.4\n",
        "model = Ridge(alpha=0.4)\n",
        "model.fit(X_train, y_train)\n",
        "\n",
        "#Evaluate the model on the test set and calculate the RMSE\n",
        "y_pred = model.predict(X_test)\n",
        "rmse = mean_squared_error(y_test, y_pred, squared=False)\n",
        "print(f\"Root Mean Squared Error (RMSE): {rmse:.3f}\")\n"
      ],
      "metadata": {
        "colab": {
          "base_uri": "https://localhost:8080/"
        },
        "id": "oi9jH9dQe-iT",
        "outputId": "128372ed-6ee2-4ab3-8f96-bae41ecbf53a"
      },
      "execution_count": 66,
      "outputs": [
        {
          "output_type": "stream",
          "name": "stdout",
          "text": [
            "Root Mean Squared Error (RMSE): 0.088\n"
          ]
        }
      ]
    },
    {
      "cell_type": "code",
      "source": [
        "#Import Libary\n",
        "from sklearn.linear_model import Lasso\n",
        "\n",
        "#Train the Lasso regression model with an alpha value of 0.001\n",
        "model = Lasso(alpha=0.001)\n",
        "model.fit(X_train, y_train)\n",
        "\n",
        "#Obtain the feature weights\n",
        "feature_weights = pd.DataFrame({'Feature': X.columns, 'Weight': model.coef_})\n",
        "\n",
        "# Count the number of features with non-zero feature weights\n",
        "non_zero_features = (feature_weights['Weight'] != 0).sum()\n",
        "print(f\"Number of features with non-zero weights: {non_zero_features}\")\n"
      ],
      "metadata": {
        "colab": {
          "base_uri": "https://localhost:8080/"
        },
        "id": "YGAmyRT0flv8",
        "outputId": "f5e66dae-396c-4c54-c8b9-540512194814"
      },
      "execution_count": 67,
      "outputs": [
        {
          "output_type": "stream",
          "name": "stdout",
          "text": [
            "Number of features with non-zero weights: 4\n"
          ]
        }
      ]
    },
    {
      "cell_type": "code",
      "source": [
        "#Print the number of features with non-zero feature weights:\n",
        "rmse = mean_squared_error(y_test, y_pred, squared=False)\n",
        "print(f\"Root Mean Squared Error (RMSE): {rmse:.3f}\")"
      ],
      "metadata": {
        "colab": {
          "base_uri": "https://localhost:8080/"
        },
        "id": "qjARXs29f_Wc",
        "outputId": "dbf7a5a7-e6d9-4f98-e7ac-55a9a65b491c"
      },
      "execution_count": 68,
      "outputs": [
        {
          "output_type": "stream",
          "name": "stdout",
          "text": [
            "Root Mean Squared Error (RMSE): 0.088\n"
          ]
        }
      ]
    },
    {
      "cell_type": "code",
      "source": [],
      "metadata": {
        "id": "I4If9kwdgX0s"
      },
      "execution_count": 68,
      "outputs": []
    }
  ]
}